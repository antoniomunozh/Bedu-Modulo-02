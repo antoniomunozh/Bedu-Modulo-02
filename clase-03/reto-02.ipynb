{
 "cells": [
  {
   "cell_type": "code",
   "execution_count": 3,
   "metadata": {},
   "outputs": [],
   "source": [
    " mi_dict = {\"1A\":{\"TITULO\":\"Ready Player One\",\"AUTOR\":\"TEOFILO\",\"AÑO\":\"1955\"},\"2A\":{\"TITULO\":\"Top Gun: Maverick\",\"AUTOR\":\"MARICELA\",\"AÑO\":\"2005\"}}\n",
    "mi_conjunto = set()\n",
    "\n",
    "while True:\n",
    "    opcion = input(\"\"\"Selecciona la opción que desea realizar: \n",
    "                   1) Prestar libro\n",
    "                   2) Devolver libro \n",
    "                   3) Salir\"\"\")\n",
    "    match opcion:\n",
    "        case \"1\":\n",
    "            id = input(\"Ingresa la id del libro\").upper()\n",
    "            #verificando si el libro esta prestado\n",
    "            if id not in mi_conjunto:\n",
    "                mi_conjunto.add(id)\n",
    "                for libro, valor in mi_dict.items():\n",
    "                    if libro == id:\n",
    "                        print(f\"El libro {valor} prestado con exito.\")\n",
    "            else:\n",
    "                for libro, valor in mi_dict.items():\n",
    "                    if libro == id:\n",
    "                        print(f\"El libro {valor} ya esta prestado.\")\n",
    "        case \"2\":\n",
    "            id_devolucion = input(\"Ingresa el id del libro que deseas devolver: \").upper()\n",
    "            # Verificar si el libro esta prestado\n",
    "            if id_devolucion in mi_conjunto:\n",
    "                 mi_conjunto.remove(id_devolucion)\n",
    "                 for clave , valorr in mi_dict.items():\n",
    "                    if clave == id_devolucion:\n",
    "                        print(f\"El libro {valorr} ha sido devuelto exitosamente\")\n",
    "            else:\n",
    "                for clave , valorr in mi_dict.items():\n",
    "                    if clave == id_devolucion:\n",
    "                        print(f\"El libro {valor} no esta prestado.\")\n",
    "                #Listado de libros prestados\n",
    "                print(\"Esta es la lista de libros prestados: \")\n",
    "                for elemento in mi_conjunto:\n",
    "                    for  clave , valorr in mi_dict.items():\n",
    "                        if elemento == clave:\n",
    "                            print(valorr)\n",
    "        case \"3\":\n",
    "            break\n",
    "        case _:\n",
    "            print(\"Opción invalida\")    "
   ]
  }
 ],
 "metadata": {
  "kernelspec": {
   "display_name": "Python 3",
   "language": "python",
   "name": "python3"
  },
  "language_info": {
   "codemirror_mode": {
    "name": "ipython",
    "version": 3
   },
   "file_extension": ".py",
   "mimetype": "text/x-python",
   "name": "python",
   "nbconvert_exporter": "python",
   "pygments_lexer": "ipython3",
   "version": "3.12.4"
  }
 },
 "nbformat": 4,
 "nbformat_minor": 2
}
