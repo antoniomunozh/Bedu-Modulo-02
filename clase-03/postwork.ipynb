{
 "cells": [
  {
   "cell_type": "code",
   "execution_count": 1,
   "metadata": {},
   "outputs": [
    {
     "name": "stdout",
     "output_type": "stream",
     "text": [
      "Bienvenido al servicio de gestión de cursos\n",
      "1) Agregar curso\n",
      "2) Actualizar preferencias\n",
      "3) Generar recomendaciones\n",
      "4) Salir\n",
      "                \n",
      "Esa opción no es valida\n",
      "Saliendo del programa\n"
     ]
    }
   ],
   "source": [
    "def menu():\n",
    "    print(\"\"\"Bienvenido al servicio de gestión de cursos\n",
    "1) Agregar curso\n",
    "2) Actualizar preferencias\n",
    "3) Generar recomendaciones\n",
    "4) Salir\n",
    "                \"\"\")\n",
    "  \n",
    "lista_de_cursos = []\n",
    "lista_preferencias = []\n",
    "menu()\n",
    "while True:\n",
    "    while True:\n",
    "        try:\n",
    "            accion = int(input(\"Selecciona la acción que deseas realizar: \"))\n",
    "            if accion > 0 and accion <=4:\n",
    "                break\n",
    "            else:\n",
    "                print(\"Ingresa un número del 1-4\")\n",
    "        except ValueError:\n",
    "            print(\"Esa opción no es valida\")\n",
    "    if accion == 1:\n",
    "        id_curso = input(\"Ingresa el ID del curso: \").upper()\n",
    "        nombre_curso = input(\"Ingresa el nombre del curso: \").upper()\n",
    "        categoria = input(\"Ingresa la categoria del curso: \").upper()\n",
    "        mi_tupla =(id_curso, nombre_curso, categoria)\n",
    "        lista_de_cursos.append(mi_tupla)\n",
    "        print(f\"El curso {mi_tupla} se ha agregado exitosamente.\")\n",
    "    elif accion == 2:\n",
    "        id_estudiante = input(\"Ingresa el ID del estudiante: \").upper()\n",
    "        while True:\n",
    "            categorias_del_estudiante = input(\"Ingresa las categorias de interes del estudiante\").upper()\n",
    "            if categorias_del_estudiante == \"HECHO\":\n",
    "                 break\n",
    "            lista_preferencias.append(categorias_del_estudiante)\n",
    "            preferencias_estudiantes = {id_estudiante:lista_preferencias}\n",
    "    elif accion == 3:\n",
    "        id_estudiante = input(\"Ingresa el ID del estudiante: \").upper()\n",
    "        for id in preferencias_estudiantes.keys():#Confirmamos la existencia del estudiante con preferencias\n",
    "            if id_estudiante == id:\n",
    "                for tupla in lista_de_cursos:\n",
    "                   for valor in preferencias_estudiantes.values():\n",
    "                            if tupla[2] in valor:\n",
    "                                indice = lista_de_cursos.index(tupla)\n",
    "                                print(f\"Estos son los curso recomendados para este estudiante. {lista_de_cursos[indice]}\")\n",
    "                            else:\n",
    "                                print(\"No hay cursos que coincidan  con sus preferencias.\")\n",
    "            else:    \n",
    "                print(\"No se encontraron preferencias para este estudiante.\")\n",
    "    elif accion == 4:\n",
    "        print(\"Saliendo del programa\")\n",
    "        break\n",
    "    else:\n",
    "        print(\"Esa opción no está disponible\")\n",
    "\n",
    "            \n"
   ]
  }
 ],
 "metadata": {
  "kernelspec": {
   "display_name": "Python 3",
   "language": "python",
   "name": "python3"
  },
  "language_info": {
   "codemirror_mode": {
    "name": "ipython",
    "version": 3
   },
   "file_extension": ".py",
   "mimetype": "text/x-python",
   "name": "python",
   "nbconvert_exporter": "python",
   "pygments_lexer": "ipython3",
   "version": "3.12.4"
  }
 },
 "nbformat": 4,
 "nbformat_minor": 2
}
