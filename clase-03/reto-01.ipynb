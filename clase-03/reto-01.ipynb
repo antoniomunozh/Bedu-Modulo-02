{
 "cells": [
  {
   "cell_type": "code",
   "execution_count": 14,
   "metadata": {},
   "outputs": [
    {
     "name": "stdout",
     "output_type": "stream",
     "text": [
      "[('RORO', '2')]\n",
      "[('RORO', '2'), ('TENIO', '3')]\n",
      "Estas son las reservaciones: ('RORO', '2')\n"
     ]
    }
   ],
   "source": [
    "#📜 Define una lista de tuplas donde cada tupla represente una reservación. Con los siguientes datos:\n",
    "\n",
    "#Nombre del cliente\n",
    "#Cantidad de personas\n",
    "#➕ Añade al menos 5 reservaciones a la lista.\n",
    "#➖ Elimina una reservación existente de la lista.\n",
    "#🔄 Finalmente recorre la lista de reservaciones e imprime un mensaje personalizado:\n",
    "\n",
    "opcion_1 = \"1) Hacer reservación\"\n",
    "opcion_2 = \"2) Eliminar reservación\"\n",
    "opcion_3 = \"3) Salir\"\n",
    "\n",
    "opcion_cliente = input(f\"\"\" Selecciona una opción\n",
    "                        {opcion_1}\n",
    "                        {opcion_2}\n",
    "                        {opcion_3}\"\"\")\n",
    "lista_de_tuplas = []\n",
    "\n",
    "while opcion_cliente != \"3\":\n",
    "    match opcion_cliente:\n",
    "        case \"1\":\n",
    "            nombre = input(\"Ingresa tu nombre: \").upper()\n",
    "            cantidad = input(\"Ingresa la cantidad de personas: \").upper()\n",
    "            reservacion = (nombre,cantidad)\n",
    "            lista_de_tuplas.append(reservacion)\n",
    "            \n",
    "        case \"2\":\n",
    "            nombre_de_reservacion_eliminar = input(\"Ingresa el nombre al cual se registro la reservación que desea eliminar: \").upper()\n",
    "            for i in lista_de_tuplas:\n",
    "                for j in i:\n",
    "                    if nombre_de_reservacion_eliminar == j:\n",
    "                        indice_a_eliminar = lista_de_tuplas.index(i)\n",
    "                        del lista_de_tuplas[indice_a_eliminar]\n",
    "        case \"3\":\n",
    "            Break\n",
    "        case _:\n",
    "            print(\"Esa opción es invalida\")\n",
    "    opcion_cliente = input(f\"\"\" Selecciona una opción\n",
    "                        {opcion_1}\n",
    "                            {opcion_2}\n",
    "                            {opcion_3}\"\"\")\n",
    "for reservaciones in lista_de_tuplas:\n",
    "    print(f\"Estas son las reservaciones: {reservaciones}\")\n",
    "            \n",
    "\n",
    "\n",
    "\n",
    "\n",
    "\n",
    "\n"
   ]
  }
 ],
 "metadata": {
  "kernelspec": {
   "display_name": "Python 3",
   "language": "python",
   "name": "python3"
  },
  "language_info": {
   "codemirror_mode": {
    "name": "ipython",
    "version": 3
   },
   "file_extension": ".py",
   "mimetype": "text/x-python",
   "name": "python",
   "nbconvert_exporter": "python",
   "pygments_lexer": "ipython3",
   "version": "3.12.4"
  }
 },
 "nbformat": 4,
 "nbformat_minor": 2
}
