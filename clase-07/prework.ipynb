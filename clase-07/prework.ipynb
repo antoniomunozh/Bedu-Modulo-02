{
 "cells": [
  {
   "cell_type": "code",
   "execution_count": 2,
   "metadata": {},
   "outputs": [
    {
     "name": "stdout",
     "output_type": "stream",
     "text": [
      "150 30.0\n"
     ]
    }
   ],
   "source": [
    "import pandas as pd\n",
    "serie = pd.Series([10, 20, 30, 40, 50])\n",
    "suma_total = serie.sum()\n",
    "promedio_serie = serie.mean()\n",
    "print(suma_total,promedio_serie)"
   ]
  },
  {
   "cell_type": "code",
   "execution_count": 4,
   "metadata": {},
   "outputs": [
    {
     "name": "stdout",
     "output_type": "stream",
     "text": [
      "   A  B  A_mult  Suma_A_B\n",
      "0  1  4       2         5\n",
      "1  2  5       4         7\n",
      "2  3  6       6         9\n"
     ]
    }
   ],
   "source": [
    "df = pd.DataFrame({\"A\":[1,2,3,],\"B\":[4,5,6]})\n",
    "df[\"A_mult\"] = df[\"A\"]*2\n",
    "df[\"Suma_A_B\"] = df[\"A\"] + df[\"B\"]\n",
    "print(df) \n"
   ]
  },
  {
   "cell_type": "code",
   "execution_count": 10,
   "metadata": {},
   "outputs": [
    {
     "name": "stdout",
     "output_type": "stream",
     "text": [
      "     A    B    C\n",
      "0  1.0  2.0  3.0\n",
      "1  NaN  5.0  NaN\n",
      "2  7.0  NaN  9.0\n",
      "       A      B      C\n",
      "0  False  False  False\n",
      "1   True  False   True\n",
      "2  False   True  False\n",
      "     A    B    C\n",
      "0  1.0  2.0  3.0\n",
      "1  0.0  5.0  0.0\n",
      "2  7.0  0.0  9.0\n",
      "     A    B    C\n",
      "0  1.0  2.0  3.0\n"
     ]
    }
   ],
   "source": [
    "import numpy as np\n",
    "data = {\"A\":[1.0,np.nan,7.0],\"B\":[2.0,5.0,np.nan],\"C\":[3.0,np.nan,9.0]}\n",
    "df = pd.DataFrame(data)\n",
    "print(df)\n",
    "print(df.isna())\n",
    "df_fillna = df.fillna(0)\n",
    "print(df_fillna)\n",
    "df_drop_any = df.dropna(how='any')\n",
    "print(df_drop_any)"
   ]
  }
 ],
 "metadata": {
  "kernelspec": {
   "display_name": "Python 3",
   "language": "python",
   "name": "python3"
  },
  "language_info": {
   "codemirror_mode": {
    "name": "ipython",
    "version": 3
   },
   "file_extension": ".py",
   "mimetype": "text/x-python",
   "name": "python",
   "nbconvert_exporter": "python",
   "pygments_lexer": "ipython3",
   "version": "3.12.4"
  }
 },
 "nbformat": 4,
 "nbformat_minor": 2
}
