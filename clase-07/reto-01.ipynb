{
 "cells": [
  {
   "cell_type": "code",
   "execution_count": 1,
   "metadata": {},
   "outputs": [
    {
     "data": {
      "text/html": [
       "<div>\n",
       "<style scoped>\n",
       "    .dataframe tbody tr th:only-of-type {\n",
       "        vertical-align: middle;\n",
       "    }\n",
       "\n",
       "    .dataframe tbody tr th {\n",
       "        vertical-align: top;\n",
       "    }\n",
       "\n",
       "    .dataframe thead th {\n",
       "        text-align: right;\n",
       "    }\n",
       "</style>\n",
       "<table border=\"1\" class=\"dataframe\">\n",
       "  <thead>\n",
       "    <tr style=\"text-align: right;\">\n",
       "      <th></th>\n",
       "      <th>Estudiante</th>\n",
       "      <th>Materia</th>\n",
       "      <th>Calificación</th>\n",
       "    </tr>\n",
       "  </thead>\n",
       "  <tbody>\n",
       "    <tr>\n",
       "      <th>0</th>\n",
       "      <td>Ana</td>\n",
       "      <td>Matemáticas</td>\n",
       "      <td>85</td>\n",
       "    </tr>\n",
       "    <tr>\n",
       "      <th>1</th>\n",
       "      <td>Ana</td>\n",
       "      <td>Historia</td>\n",
       "      <td>90</td>\n",
       "    </tr>\n",
       "    <tr>\n",
       "      <th>2</th>\n",
       "      <td>Ana</td>\n",
       "      <td>Ciencias</td>\n",
       "      <td>78</td>\n",
       "    </tr>\n",
       "    <tr>\n",
       "      <th>3</th>\n",
       "      <td>Luis</td>\n",
       "      <td>Matemáticas</td>\n",
       "      <td>88</td>\n",
       "    </tr>\n",
       "    <tr>\n",
       "      <th>4</th>\n",
       "      <td>Luis</td>\n",
       "      <td>Historia</td>\n",
       "      <td>85</td>\n",
       "    </tr>\n",
       "  </tbody>\n",
       "</table>\n",
       "</div>"
      ],
      "text/plain": [
       "  Estudiante      Materia  Calificación\n",
       "0        Ana  Matemáticas            85\n",
       "1        Ana     Historia            90\n",
       "2        Ana     Ciencias            78\n",
       "3       Luis  Matemáticas            88\n",
       "4       Luis     Historia            85"
      ]
     },
     "execution_count": 1,
     "metadata": {},
     "output_type": "execute_result"
    }
   ],
   "source": [
    "import pandas as pd\n",
    "\n",
    "# Ejemplo de dataframe con calificaciones\n",
    "data = {\n",
    "    'Estudiante': ['Ana', 'Ana', 'Ana', 'Luis', 'Luis', 'Luis', 'María', 'María', 'María'],\n",
    "    'Materia': ['Matemáticas', 'Historia', 'Ciencias', 'Matemáticas', 'Historia', 'Ciencias', 'Matemáticas', 'Historia', 'Ciencias'],\n",
    "    'Calificación': [85, 90, 78, 88, 85, 92, 90, 88, 85]\n",
    "}\n",
    "\n",
    "df = pd.DataFrame(data)\n",
    "df.head()"
   ]
  },
  {
   "cell_type": "code",
   "execution_count": 13,
   "metadata": {},
   "outputs": [
    {
     "name": "stdout",
     "output_type": "stream",
     "text": [
      "Suma y promedio de calificaciones de Ana: 253 y 84.33333333333333\n",
      "Suma y promedio de calificaciones de Ana: 253 y 84.33333333333333\n",
      "La calificacion mas alta en el dataframe es: <bound method Series.max of 0    85\n",
      "1    90\n",
      "2    78\n",
      "3    88\n",
      "4    85\n",
      "5    92\n",
      "6    90\n",
      "7    88\n",
      "8    85\n",
      "Name: Calificación, dtype: int64>\n"
     ]
    }
   ],
   "source": [
    "suma_calificaciones_ana = df[df['Estudiante'] == 'Ana']['Calificación'].sum()\n",
    "predio_calificaciones_ana = df[df['Estudiante'] == 'Ana']['Calificación'].mean()\n",
    "print(f\"Suma y promedio de calificaciones de Ana: {suma_calificaciones} y {predio_calificaciones}\")\n",
    "print(f\"Suma y promedio de calificaciones de Ana: {suma_calificaciones} y {predio_calificaciones}\")\n",
    "\n",
    "suma_calificaciones_ana = df[df['Estudiante'] == 'Luis']['Calificación'].sum()\n",
    "predio_calificaciones_ana = df[df['Estudiante'] == 'Luis']['Calificación'].mean()\n",
    "\n",
    "suma_calificaciones_ana = df[df['Estudiante'] == 'Maria']['Calificación'].sum()\n",
    "predio_calificaciones_ana = df[df['Estudiante'] == 'Maria']['Calificación'].mean()\n",
    "print(\"La calificacion mas alta en el dataframe es:\", df[\"Calificación\"].max)"
   ]
  }
 ],
 "metadata": {
  "kernelspec": {
   "display_name": "Python 3",
   "language": "python",
   "name": "python3"
  },
  "language_info": {
   "codemirror_mode": {
    "name": "ipython",
    "version": 3
   },
   "file_extension": ".py",
   "mimetype": "text/x-python",
   "name": "python",
   "nbconvert_exporter": "python",
   "pygments_lexer": "ipython3",
   "version": "3.12.4"
  }
 },
 "nbformat": 4,
 "nbformat_minor": 2
}
