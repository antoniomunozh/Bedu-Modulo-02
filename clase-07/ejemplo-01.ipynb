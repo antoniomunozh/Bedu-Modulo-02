{
 "cells": [
  {
   "cell_type": "code",
   "execution_count": 5,
   "metadata": {},
   "outputs": [
    {
     "data": {
      "text/plain": [
       "0    1\n",
       "1    2\n",
       "2    3\n",
       "3    4\n",
       "4    5\n",
       "dtype: int64"
      ]
     },
     "execution_count": 5,
     "metadata": {},
     "output_type": "execute_result"
    }
   ],
   "source": [
    "import pandas as pd\n",
    "serie = pd.Series([1,2,3,4,5])\n",
    "usuario = pd.Series([\"Jose\",\"Cardona\",\"Antonio\",\"Diana\",\"Juan\"])\n",
    "serie"
   ]
  },
  {
   "cell_type": "code",
   "execution_count": 3,
   "metadata": {},
   "outputs": [
    {
     "data": {
      "text/plain": [
       "0    11\n",
       "1    12\n",
       "2    13\n",
       "3    14\n",
       "4    15\n",
       "dtype: int64"
      ]
     },
     "execution_count": 3,
     "metadata": {},
     "output_type": "execute_result"
    }
   ],
   "source": [
    "serie_1 = serie + 10\n",
    "serie_1"
   ]
  },
  {
   "cell_type": "code",
   "execution_count": 4,
   "metadata": {},
   "outputs": [
    {
     "data": {
      "text/plain": [
       "0    10\n",
       "1    20\n",
       "2    30\n",
       "3    40\n",
       "4    50\n",
       "dtype: int64"
      ]
     },
     "execution_count": 4,
     "metadata": {},
     "output_type": "execute_result"
    }
   ],
   "source": [
    "serie_1 = serie * 10\n",
    "serie_1"
   ]
  },
  {
   "cell_type": "code",
   "execution_count": 8,
   "metadata": {},
   "outputs": [
    {
     "data": {
      "text/plain": [
       "0       Jose@hotmail\n",
       "1    Cardona@hotmail\n",
       "2    Antonio@hotmail\n",
       "3      Diana@hotmail\n",
       "4       Juan@hotmail\n",
       "dtype: object"
      ]
     },
     "execution_count": 8,
     "metadata": {},
     "output_type": "execute_result"
    }
   ],
   "source": [
    "correo_electronio = usuario +\"@\"+\"hotmail\"\n",
    "correo_electronio"
   ]
  },
  {
   "cell_type": "code",
   "execution_count": 9,
   "metadata": {},
   "outputs": [
    {
     "data": {
      "text/plain": [
       "0          JoseJose\n",
       "1    CardonaCardona\n",
       "2    AntonioAntonio\n",
       "3        DianaDiana\n",
       "4          JuanJuan\n",
       "dtype: object"
      ]
     },
     "execution_count": 9,
     "metadata": {},
     "output_type": "execute_result"
    }
   ],
   "source": [
    "correo_electronio = usuario*2\n",
    "correo_electronio"
   ]
  },
  {
   "cell_type": "code",
   "execution_count": 12,
   "metadata": {},
   "outputs": [
    {
     "data": {
      "text/plain": [
       "0    11\n",
       "1    12\n",
       "2    13\n",
       "3    14\n",
       "4    15\n",
       "dtype: int64"
      ]
     },
     "execution_count": 12,
     "metadata": {},
     "output_type": "execute_result"
    }
   ],
   "source": [
    "#Funciones vectorizadas\n",
    "serie_2 = pd.Series([1,2,3,4,5])\n",
    "serie_3 = serie_2.add(10)\n",
    "serie_4 = serie_2.sub(10)\n",
    "serie_5 = serie_2.mul(10)\n",
    "serie_6 = serie_2.div(10)\n",
    "serie_3"
   ]
  },
  {
   "cell_type": "code",
   "execution_count": 26,
   "metadata": {},
   "outputs": [
    {
     "name": "stdout",
     "output_type": "stream",
     "text": [
      "15\n",
      "3.0\n",
      "3.0\n",
      "1.5811388300841898\n",
      "5\n",
      "1\n",
      "5\n"
     ]
    }
   ],
   "source": [
    "# Funciones de agregacio\n",
    "serie_1=  pd.Series([1,2,3,4,5])\n",
    "print(serie_1.sum())\n",
    "print(round(serie_1.mean(),2))\n",
    "print(serie_1.median())\n",
    "print(serie_1.std())\n",
    "print(serie_1.max())\n",
    "print(serie_1.min())\n",
    "print(serie_1.count())\n"
   ]
  }
 ],
 "metadata": {
  "kernelspec": {
   "display_name": "Python 3",
   "language": "python",
   "name": "python3"
  },
  "language_info": {
   "codemirror_mode": {
    "name": "ipython",
    "version": 3
   },
   "file_extension": ".py",
   "mimetype": "text/x-python",
   "name": "python",
   "nbconvert_exporter": "python",
   "pygments_lexer": "ipython3",
   "version": "3.12.4"
  }
 },
 "nbformat": 4,
 "nbformat_minor": 2
}
