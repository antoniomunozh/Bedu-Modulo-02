{
 "cells": [
  {
   "cell_type": "code",
   "execution_count": 3,
   "metadata": {},
   "outputs": [
    {
     "name": "stdout",
     "output_type": "stream",
     "text": [
      "Te damos la bienvenida al servicio de registro de proyectos\n",
      "El proyecto se ha registrado correctamente\n",
      "Estos son los proyectos registrados: \n",
      "{'RES': 'NO INICIADO'}\n",
      "Estos son los proyectos registrados: \n",
      "{'RES': 'EN PROGRESO'}\n",
      "Estos son los proyectos registrados: \n",
      "{'RES': 'EN PROGRESO'}\n"
     ]
    }
   ],
   "source": [
    "print(\"Te damos la bienvenida al servicio de registro de proyectos\")\n",
    "lista_de_proyectos = []\n",
    "while True:\n",
    "    opcion = int(input(\"\"\"Selecciona la ópcion que mas te convenga: \n",
    "        1) Registrar nuevo proyecto.\n",
    "        2) Actualizar estado de proyecto.\n",
    "        3) Mostrar lista de proyectos.\n",
    "        4) Salir.\"\"\"))\n",
    "    match opcion:\n",
    "        case 1:\n",
    "            nombre_proyecto = input(\"Ingresa el nombre del proyecto: \").upper()\n",
    "            estado_proyecto = input(\"\"\"Ingresa el estado del proyecto: \n",
    "                                    No iniciado\n",
    "                                    En progreso\n",
    "                                    Completado\"\"\").upper()\n",
    "            #lista_interna = [nombre_proyecto , estado_proyecto]\n",
    "            #lista_de_proyectos.append(lista_interna)\n",
    "            mi_dict = {nombre_proyecto:estado_proyecto}\n",
    "            lista_de_proyectos.append(mi_dict)\n",
    "            print(\"El proyecto se ha registrado correctamente\")\n",
    "            seguir_si_no = input(\"Desea seguir realizando cambios: (SI/NO)\").upper()\n",
    "            if seguir_si_no == \"NO\":\n",
    "                break\n",
    "        case 2:\n",
    "            nombre_proyecto_a_modificar = input(\"Ingresa el nombre del proyecto al que desea modificar el estado: \").upper()\n",
    "            for i in lista_de_proyectos:\n",
    "                #for j in i:\n",
    "                 #   if j == nombre_proyecto_a_modificar:\n",
    "                  #      indice_del_proyecto = lista_de_proyectos.index(i)\n",
    "                   #     lista_de_proyectos[indice_del_proyecto][1] = input(\"Ingresa el estado al que deseas actualizar: \").upper()\n",
    "\n",
    "                for j in i.keys():\n",
    "                    if nombre_proyecto_a_modificar == j:\n",
    "                        i[nombre_proyecto_a_modificar] = input(\"Ingresa el estado al que deseas actualizar: \").upper()\n",
    "            #print(\"No se encontró el proyecto para actualizar estado\")\n",
    "            seguir_si_no = input(\"Desea seguir realizando cambios: (SI/NO)\").upper()\n",
    "            if seguir_si_no == \"NO\":\n",
    "                break\n",
    "        case 3:\n",
    "            print(\"Estos son los proyectos registrados: \")\n",
    "            for proyecto in lista_de_proyectos:\n",
    "                print(proyecto)\n",
    "        case 4:\n",
    "            break\n",
    "        case _:\n",
    "            print(\"Esa opción es invalida\")\n",
    "                    \n",
    "\n",
    "\n"
   ]
  }
 ],
 "metadata": {
  "kernelspec": {
   "display_name": "Python 3",
   "language": "python",
   "name": "python3"
  },
  "language_info": {
   "codemirror_mode": {
    "name": "ipython",
    "version": 3
   },
   "file_extension": ".py",
   "mimetype": "text/x-python",
   "name": "python",
   "nbconvert_exporter": "python",
   "pygments_lexer": "ipython3",
   "version": "3.12.4"
  }
 },
 "nbformat": 4,
 "nbformat_minor": 2
}
