{
 "cells": [
  {
   "cell_type": "code",
   "execution_count": 14,
   "metadata": {},
   "outputs": [
    {
     "name": "stdout",
     "output_type": "stream",
     "text": [
      "45\n",
      "El número es impar\n",
      "La suma de todos los números pares es 506\n",
      "El numero ingresado es impar\n"
     ]
    }
   ],
   "source": [
    "#Solicita al usuario ingresar un número entero positivo.\n",
    "#Utiliza una sentencia if para determinar si el número ingresado es par o impar.\n",
    "#Utiliza un bucle for o while para calcular la suma de todos los números pares desde 1 hasta el número ingresado.\n",
    "#Utiliza la sentencia match para imprimir un mensaje indicando si el número ingresado es par o impar.\n",
    "numero = int(input(\"Ingresa un número entero positivo: \"))\n",
    "print(numero)\n",
    "if (numero % 2) == 1:\n",
    "    print(\"El número es impar\")\n",
    "else:\n",
    "    print(\"El número es par\")\n",
    "sum_numeros = 0\n",
    "for num in range(0,numero + 1):\n",
    "    if (num % 2) == 0:\n",
    "        sum_numeros += num \n",
    "print(f\"La suma de todos los números pares es {sum_numeros}\")\n",
    "\n",
    "match numero % 2:\n",
    "    case 1:\n",
    "        print(\"El número ingresado es impar\")\n",
    "    case 0:\n",
    "        print(\"El número ingresado es par\")\n"
   ]
  }
 ],
 "metadata": {
  "kernelspec": {
   "display_name": "Python 3",
   "language": "python",
   "name": "python3"
  },
  "language_info": {
   "codemirror_mode": {
    "name": "ipython",
    "version": 3
   },
   "file_extension": ".py",
   "mimetype": "text/x-python",
   "name": "python",
   "nbconvert_exporter": "python",
   "pygments_lexer": "ipython3",
   "version": "3.12.4"
  }
 },
 "nbformat": 4,
 "nbformat_minor": 2
}
