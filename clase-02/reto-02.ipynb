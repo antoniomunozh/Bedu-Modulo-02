{
 "cells": [
  {
   "cell_type": "code",
   "execution_count": 12,
   "metadata": {},
   "outputs": [
    {
     "name": "stdout",
     "output_type": "stream",
     "text": [
      "''Bienvenido al servicio de comida rapida''\n",
      "\n",
      "1. Pizza - $10\n",
      "2. Hamburguesa - $8\n",
      "3. Ensalada - $7\n",
      "0. Finalizar pedido\n",
      "\n",
      "Añadiste pizza a tu pedido. Total actual: $10\n",
      "Añadiste ensalada a tu pedido. Total actual: $17\n",
      "El total de su pedido es: $17\n",
      " Agradecemos su confianza\n"
     ]
    }
   ],
   "source": [
    "#🗣️ Inicializa una variable pedido_total, que servirá para acumular el costo total del pedido.\n",
    "#⌨️ Implementa un bucle while que muestre un menú de opciones de comida y permita al usuario hacer un pedido. Las opciones son:\n",
    "#🔄 Dentro del bucle, solicita al usuario que ingrese el número de la opción deseada y realiza las siguientes acciones según la elección:\n",
    "#Si el usuario selecciona '0', muestra el total del pedido, agradece y termina el bucle.\n",
    "#Utiliza una estructura match para asignar el precio correcto según la opción elegida y añadirlo al pedido_total.\n",
    "#❓ Si el usuario introduce una opción no válida, muestra un mensaje de error y permite intentar nuevamente sin salir del bucle.\n",
    "#🧮 Después de añadir cada producto al pedido, muestra un mensaje indicando el producto añadido y el total acumulado. Luego, pregunta al \n",
    "#usuario si desea continuar añadiendo productos. Si responde \"no\", muestra el total del pedido, agradece y finaliza el bucle.\n",
    "\n",
    "pedido_total = 0\n",
    "print(\"''Bienvenido al servicio de comida rapida''\\n\")\n",
    "print(\"\"\"1. Pizza - $10\n",
    "2. Hamburguesa - $8\n",
    "3. Ensalada - $7\n",
    "0. Finalizar pedido\\n\"\"\")\n",
    "\n",
    "\n",
    "while True:\n",
    "    \n",
    "    opcion = input(\"Introduce el número de la opción que deseas: \")\n",
    "    match opcion:\n",
    "        case \"1\":\n",
    "            pedido_total += 10\n",
    "            print(f\"Añadiste pizza a tu pedido. Total actual: ${pedido_total}\")\n",
    "            seguir_o_no = input(\"¿Desea seguir añadiendo productos:? (SI/NO): \").upper()\n",
    "            if seguir_o_no == \"NO\":\n",
    "                print(f\"El total de su pedido es: ${pedido_total}\\n Agradecemos su confianza\")\n",
    "                break\n",
    "            \n",
    "        case \"2\":\n",
    "            pedido_total += 8\n",
    "            print(f\"Añadiste hamburguesa a tu pedido. Total actual: ${pedido_total}\")\n",
    "            seguir_o_no = input(\"¿Desea seguir añadiendo productos:? (SI/NO): \").upper()\n",
    "            if seguir_o_no == \"NO\":\n",
    "                print(f\"El total de su pedido es: ${pedido_total}\\n Agradecemos su confianza\")\n",
    "                break\n",
    "           \n",
    "        case \"3\":\n",
    "            pedido_total += 7\n",
    "            print(f\"Añadiste ensalada a tu pedido. Total actual: ${pedido_total}\")\n",
    "            seguir_o_no = input(\"¿Desea seguir añadiendo productos:? (SI/NO): \").upper()\n",
    "            if seguir_o_no == \"NO\":\n",
    "                print(f\"El total de su pedido es: ${pedido_total}\\n Agradecemos su confianza\")\n",
    "                break\n",
    "            \n",
    "        case \"0\":\n",
    "            print(f\"El total de su pedido es: ${pedido_total}\\n Agradecemos su confianza\")\n",
    "            break\n",
    "\n",
    "        case _:\n",
    "            print(\"Esa opción no es valida\")\n",
    "\n",
    " \n",
    "\n"
   ]
  }
 ],
 "metadata": {
  "kernelspec": {
   "display_name": "Python 3",
   "language": "python",
   "name": "python3"
  },
  "language_info": {
   "codemirror_mode": {
    "name": "ipython",
    "version": 3
   },
   "file_extension": ".py",
   "mimetype": "text/x-python",
   "name": "python",
   "nbconvert_exporter": "python",
   "pygments_lexer": "ipython3",
   "version": "3.12.4"
  }
 },
 "nbformat": 4,
 "nbformat_minor": 2
}
