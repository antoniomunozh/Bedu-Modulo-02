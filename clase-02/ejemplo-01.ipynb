{
 "cells": [
  {
   "cell_type": "code",
   "execution_count": 2,
   "metadata": {},
   "outputs": [
    {
     "name": "stdout",
     "output_type": "stream",
     "text": [
      "\"True\"\n",
      "True\n"
     ]
    }
   ],
   "source": [
    "if True:\n",
    "    print('\"True\"')\n",
    "    print(\"True\")\n",
    "else:\n",
    "    print(\"False\")\n"
   ]
  },
  {
   "cell_type": "code",
   "execution_count": 4,
   "metadata": {},
   "outputs": [
    {
     "name": "stdout",
     "output_type": "stream",
     "text": [
      "Eres mayor de edad\n"
     ]
    }
   ],
   "source": [
    "edad = int(input('introduce tu edad: '))\n",
    "\n",
    "if edad >= 18:\n",
    "    print(\"Eres mayor de edad\")\n",
    "else:\n",
    "    print(\"Eres menor de edad\")\n"
   ]
  },
  {
   "cell_type": "code",
   "execution_count": 8,
   "metadata": {},
   "outputs": [
    {
     "name": "stdout",
     "output_type": "stream",
     "text": [
      "Estas vivo\n"
     ]
    }
   ],
   "source": [
    "edad = int(input('introduce tu edad: '))\n",
    "\n",
    "if edad >= 0 and edad <= 100:\n",
    "    print(\"Estas vivo\")\n",
    "else:\n",
    "    print(\"No estas vivo\")"
   ]
  },
  {
   "cell_type": "code",
   "execution_count": 9,
   "metadata": {},
   "outputs": [
    {
     "name": "stdout",
     "output_type": "stream",
     "text": [
      "Estas vivo\n"
     ]
    }
   ],
   "source": [
    "edad = int(input('introduce tu edad: '))\n",
    "\n",
    "if edad >= 0 and edad <= 100:\n",
    "    print(\"Estas vivo\")\n",
    "elif edad < 0:\n",
    "    print(\"Aun no naces\")\n",
    "elif edad > 100:\n",
    "    print(\"Ya estas muerto\")\n"
   ]
  },
  {
   "cell_type": "code",
   "execution_count": 10,
   "metadata": {},
   "outputs": [
    {
     "name": "stdout",
     "output_type": "stream",
     "text": [
      "1\n",
      "2\n",
      "3\n",
      "4\n",
      "5\n",
      "6\n"
     ]
    }
   ],
   "source": [
    "##For\n",
    "\n",
    "numeros = [1,2,3,4,5,6]\n",
    "for elem in numeros:\n",
    "    print(elem)"
   ]
  },
  {
   "cell_type": "code",
   "execution_count": 17,
   "metadata": {},
   "outputs": [
    {
     "name": "stdout",
     "output_type": "stream",
     "text": [
      "El articulo no esta en el pasillo 0\n",
      "El articulo no esta en el pasillo 1\n",
      "El articulo esta en el pasillo 2\n"
     ]
    }
   ],
   "source": [
    "import random\n",
    "pasillo_articulo = random.randint(1,10)\n",
    "\n",
    "for i in range(1,11):\n",
    "    if pasillo_articulo == i:\n",
    "        print(\"El articulo esta en el pasillo \"+ str(i))\n",
    "        break\n",
    "    else:\n",
    "        print(\"El articulo no esta en el pasillo \"+ str(i))"
   ]
  },
  {
   "cell_type": "code",
   "execution_count": 19,
   "metadata": {},
   "outputs": [
    {
     "name": "stdout",
     "output_type": "stream",
     "text": [
      "Hola Juan\n",
      "Eres mayor de edad\n"
     ]
    }
   ],
   "source": [
    "##match \n",
    "nombre = \"Juan\"\n",
    "\n",
    "match nombre:\n",
    "    case \"Juan\":\n",
    "        print(\"Hola \"+ nombre)\n",
    "    case \"Juan\":\n",
    "        print(\"Hola \"+ nombre)\n",
    "    case \"Juan\":\n",
    "        print(\"Hola \"+ nombre)\n",
    "    case _:\n",
    "        print(\"Hola desconocido\")\n",
    "edad = 18\n",
    "\n",
    "match edad:\n",
    "    case 18:\n",
    "        print(\"Eres mayor de edad\")\n",
    "    case 17:\n",
    "        print(\"Eres menor de edad\")   \n",
    "    case _:\n",
    "        print(\"Edad desconocida\")"
   ]
  },
  {
   "cell_type": "code",
   "execution_count": 23,
   "metadata": {},
   "outputs": [
    {
     "name": "stdout",
     "output_type": "stream",
     "text": [
      "Eres menor de edad 0\n",
      "Eres menor de edad 4\n",
      "Eres menor de edad 2\n",
      "Eres menor de edad 2\n"
     ]
    }
   ],
   "source": [
    "#Ciclo while\n",
    "edad = 0\n",
    "while edad < 18:\n",
    "    print(\"Eres menor de edad \"+ str(edad))\n",
    "    edad = int(input (\"Introduce tu edad: \"))"
   ]
  },
  {
   "cell_type": "code",
   "execution_count": null,
   "metadata": {},
   "outputs": [],
   "source": []
  }
 ],
 "metadata": {
  "kernelspec": {
   "display_name": "Python 3",
   "language": "python",
   "name": "python3"
  },
  "language_info": {
   "codemirror_mode": {
    "name": "ipython",
    "version": 3
   },
   "file_extension": ".py",
   "mimetype": "text/x-python",
   "name": "python",
   "nbconvert_exporter": "python",
   "pygments_lexer": "ipython3",
   "version": "3.12.4"
  }
 },
 "nbformat": 4,
 "nbformat_minor": 2
}
