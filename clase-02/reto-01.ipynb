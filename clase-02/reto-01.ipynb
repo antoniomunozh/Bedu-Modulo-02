{
 "cells": [
  {
   "cell_type": "code",
   "execution_count": 59,
   "metadata": {},
   "outputs": [
    {
     "name": "stdout",
     "output_type": "stream",
     "text": [
      "El pasillo no es correcto: 1\n",
      "El pasillo no es correcto: 2\n",
      "El pasillo no es correcto: 3\n",
      "El pasillo no es correcto: 4\n",
      "El artículo ha sido encontrado en el pasillo: 5\n",
      "Número de intentos: 5\n"
     ]
    }
   ],
   "source": [
    "#🗣️ Supongamos que hay 10 pasillos en total en una tienda de abarrotes y el artículo lo dejaron en uno de esos pasillos de manera aleatoria.\n",
    "#⌨️ Define una variable para almacenar el número total de pasillos. Luego, emplea la funcionalidad de random() para seleccionar un pasillo \n",
    "#   al azar y guarda este número en otra variable.\n",
    "#🔄 Utiliza un ciclo for simulando que vas en busca de ese articulo pasillo tras pasillo hasta llegar al ultimo.\n",
    "#❓ Dentro del ciclo, utiliza una sentencia if para verificar si el pasillo actual es donde se encuentra el artículo:\n",
    "#Si el pasillo es el correcto, imprime un mensaje indicando que el artículo ha sido encontrado luego rompe el ciclo.\n",
    "#Si el pasillo no es el correcto, imprime un mensaje indicando que el artículo no está en ese pasillo.\n",
    "#🧮 Al final del ciclo, si no se encontró el artículo, imprime un mensaje indicando que el artículo no se encontró en ninguno de los pasillos.\n",
    "#✅ Desafío adicional: Cómo podrías modificar el código para mejorar la eficiencia de la búsqueda o para añadir más características, \n",
    "#como contar el número de intentos necesarios para encontrar el artículo, puedes incrementar el número de pasillos.\n",
    "from random import randint\n",
    "numero_de_pasillo = 10\n",
    "pasillo_al_azar = randint(1,numero_de_pasillo)\n",
    "intentos = 0\n",
    "for pasillo in range(1, numero_de_pasillo +1):\n",
    "    intentos +=1\n",
    "    if pasillo == pasillo_al_azar:\n",
    "        print(f\"El artículo ha sido encontrado en el pasillo: {pasillo}\")\n",
    "        break\n",
    "    else:\n",
    "        print(f\"El pasillo no es correcto: {pasillo}\")\n",
    "if pasillo !=  pasillo_al_azar:\n",
    "    print(\"El no ha sido encontrado\") \n",
    "print(f\"Número de intentos: {intentos}\")       \n",
    "\n"
   ]
  }
 ],
 "metadata": {
  "kernelspec": {
   "display_name": "Python 3",
   "language": "python",
   "name": "python3"
  },
  "language_info": {
   "codemirror_mode": {
    "name": "ipython",
    "version": 3
   },
   "file_extension": ".py",
   "mimetype": "text/x-python",
   "name": "python",
   "nbconvert_exporter": "python",
   "pygments_lexer": "ipython3",
   "version": "3.12.4"
  }
 },
 "nbformat": 4,
 "nbformat_minor": 2
}
