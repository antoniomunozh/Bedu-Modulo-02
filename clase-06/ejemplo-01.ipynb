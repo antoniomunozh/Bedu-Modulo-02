{
 "cells": [
  {
   "cell_type": "code",
   "execution_count": 11,
   "metadata": {},
   "outputs": [
    {
     "name": "stdout",
     "output_type": "stream",
     "text": [
      "0    1\n",
      "1    2\n",
      "2    3\n",
      "3    4\n",
      "4    5\n",
      "dtype: int64\n",
      "uno     1\n",
      "dos     2\n",
      "tres    3\n",
      "dtype: int64\n",
      "1       uno\n",
      "dos     dos\n",
      "3      tres\n",
      "dtype: object\n"
     ]
    }
   ],
   "source": [
    "import pandas as pd\n",
    "serie = pd.Series([1,2,3,4,5])\n",
    "#print(serie)\n",
    "\n",
    "#diciionario\n",
    "diccionario = {\"uno\":1,\"dos\":2,\"tres\":3}\n",
    "serie = pd.Series(diccionario)\n",
    "#print(serie)\n",
    "\n",
    "# indices personalisados\n",
    "elementos = [\"uno\",\"dos\",\"tres\"]\n",
    "serie = pd.Series(elementos, index=[1,\"dos\",3])\n",
    "print(serie)"
   ]
  },
  {
   "cell_type": "code",
   "execution_count": 15,
   "metadata": {},
   "outputs": [
    {
     "name": "stdout",
     "output_type": "stream",
     "text": [
      "(3,)\n",
      "3\n",
      "object\n",
      "Index([1, 'dos', 3], dtype='object')\n",
      "['uno' 'dos' 'tres']\n"
     ]
    }
   ],
   "source": [
    "print(serie.shape) #es una tupla\n",
    "print(serie.size) #es un entero devuelve el numero de elemntos\n",
    "print(serie.dtype)# es un tipo de dato\n",
    "print(serie.index) #es un objeto devuelve los indices y su tipo\n",
    "print(serie.values) # es un objeto devuelve los valores\n",
    "\n"
   ]
  },
  {
   "cell_type": "code",
   "execution_count": null,
   "metadata": {},
   "outputs": [],
   "source": []
  }
 ],
 "metadata": {
  "kernelspec": {
   "display_name": "Python 3",
   "language": "python",
   "name": "python3"
  },
  "language_info": {
   "codemirror_mode": {
    "name": "ipython",
    "version": 3
   },
   "file_extension": ".py",
   "mimetype": "text/x-python",
   "name": "python",
   "nbconvert_exporter": "python",
   "pygments_lexer": "ipython3",
   "version": "3.12.4"
  }
 },
 "nbformat": 4,
 "nbformat_minor": 2
}
