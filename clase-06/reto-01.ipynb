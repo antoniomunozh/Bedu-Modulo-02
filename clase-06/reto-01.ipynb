{
 "cells": [
  {
   "cell_type": "code",
   "execution_count": 38,
   "metadata": {},
   "outputs": [
    {
     "name": "stdout",
     "output_type": "stream",
     "text": [
      "8\n",
      "<class 'pandas.core.series.Series'>\n",
      "Estos son los gastos de ventas 45000, IT 50000 e Investigación y Desarrollo 55000\n",
      "=============================\n",
      "Estos son los gastos desde Marketing hasta Recursos Humanos \n",
      "Marketing                 32000\n",
      "Ventas                    45000\n",
      "Desarrollo de Producto    62000\n",
      "Soporte Técnico           25000\n",
      "Recursos Humanos          15000\n",
      "dtype: int64\n",
      "=============================\n",
      "Estos son los  gastos desde Desarrollo de Producto hasta Operaciones. \n",
      "Desarrollo de Producto    62000\n",
      "Soporte Técnico           25000\n",
      "Recursos Humanos          15000\n",
      "IT                        50000\n",
      "Operaciones               47000\n",
      "dtype: int64\n",
      "=============================\n",
      "Estos son los gastos desde Soporte Técnico hasta la última división. \n",
      "Soporte Técnico               25000\n",
      "Recursos Humanos              15000\n",
      "IT                            50000\n",
      "Operaciones                   47000\n",
      "Investigación y Desarrollo    55000\n",
      "dtype: int64\n",
      "=============================\n",
      "Este es el gasto total 331000\n",
      "=============================\n",
      "Este es el promedio de gasto mensual 41375.0\n",
      "=============================\n",
      "Este es gasto más alto 62000)\n",
      "Este es gasto más bajo 15000\n"
     ]
    }
   ],
   "source": [
    "import pandas as pd\n",
    "datos = {\n",
    "    \"Marketing\": 32000, \n",
    "    \"Ventas\": 45000, \n",
    "    \"Desarrollo de Producto\": 62000, \n",
    "    \"Soporte Técnico\": 25000, \n",
    "    \"Recursos Humanos\": 15000, \n",
    "    \"IT\": 50000,\n",
    "    \"Operaciones\": 47000,\n",
    "    \"Investigación y Desarrollo\": 55000\n",
    "}\n",
    "\n",
    "gastos_mensuales = pd.Series(datos)\n",
    "print(gastos_mensuales.size)\n",
    "print(type(gastos_mensuales))\n",
    "print(f\"Estos son los gastos de ventas {gastos_mensuales[\"Ventas\"]}, IT {gastos_mensuales[\"IT\"]} e Investigación y Desarrollo {gastos_mensuales[\"Investigación y Desarrollo\"]}\")\n",
    "print(\"=============================\")\n",
    "print(f\"Estos son los gastos desde Marketing hasta Recursos Humanos \\n{gastos_mensuales[\"Marketing\":\"Recursos Humanos\"]}\")\n",
    "print(\"=============================\")\n",
    "print(f\"Estos son los  gastos desde Desarrollo de Producto hasta Operaciones. \\n{gastos_mensuales[\"Desarrollo de Producto\":\"Operaciones\"]}\")\n",
    "print(\"=============================\")\n",
    "print(f\"Estos son los gastos desde Soporte Técnico hasta la última división. \\n{gastos_mensuales[\"Soporte Técnico\":]}\")\n",
    "print(\"=============================\")\n",
    "gasto_total = gastos_mensuales.sum()\n",
    "print(f\"Este es el gasto total {gasto_total}\")\n",
    "print(\"=============================\")\n",
    "gasto_promedio = gastos_mensuales.mean()\n",
    "print(f\"Este es el promedio de gasto mensual {gasto_promedio}\")\n",
    "print(\"=============================\")\n",
    "print(f\"Este es gasto más alto {gastos_mensuales.max()}\")\n",
    "print(f\"Este es gasto más bajo {gastos_mensuales.min()}\")"
   ]
  },
  {
   "cell_type": "code",
   "execution_count": 40,
   "metadata": {},
   "outputs": [
    {
     "data": {
      "text/html": [
       "<div>\n",
       "<style scoped>\n",
       "    .dataframe tbody tr th:only-of-type {\n",
       "        vertical-align: middle;\n",
       "    }\n",
       "\n",
       "    .dataframe tbody tr th {\n",
       "        vertical-align: top;\n",
       "    }\n",
       "\n",
       "    .dataframe thead th {\n",
       "        text-align: right;\n",
       "    }\n",
       "</style>\n",
       "<table border=\"1\" class=\"dataframe\">\n",
       "  <thead>\n",
       "    <tr style=\"text-align: right;\">\n",
       "      <th></th>\n",
       "      <th>Columna1</th>\n",
       "      <th>Columna2</th>\n",
       "    </tr>\n",
       "  </thead>\n",
       "  <tbody>\n",
       "    <tr>\n",
       "      <th>a</th>\n",
       "      <td>1</td>\n",
       "      <td>4</td>\n",
       "    </tr>\n",
       "    <tr>\n",
       "      <th>b</th>\n",
       "      <td>2</td>\n",
       "      <td>5</td>\n",
       "    </tr>\n",
       "    <tr>\n",
       "      <th>c</th>\n",
       "      <td>3</td>\n",
       "      <td>6</td>\n",
       "    </tr>\n",
       "  </tbody>\n",
       "</table>\n",
       "</div>"
      ],
      "text/plain": [
       "   Columna1  Columna2\n",
       "a         1         4\n",
       "b         2         5\n",
       "c         3         6"
      ]
     },
     "execution_count": 40,
     "metadata": {},
     "output_type": "execute_result"
    }
   ],
   "source": [
    "s1 = pd.Series([1, 2, 3], index=['a', 'b', 'c'], name='Columna1')\n",
    "s2 = pd.Series([4, 5, 6], index=['a', 'b', 'c'], name='Columna2')\n",
    "df = pd.DataFrame({s1.name: s1, s2.name: s2})\n",
    "df"
   ]
  }
 ],
 "metadata": {
  "kernelspec": {
   "display_name": "Python 3",
   "language": "python",
   "name": "python3"
  },
  "language_info": {
   "codemirror_mode": {
    "name": "ipython",
    "version": 3
   },
   "file_extension": ".py",
   "mimetype": "text/x-python",
   "name": "python",
   "nbconvert_exporter": "python",
   "pygments_lexer": "ipython3",
   "version": "3.12.4"
  }
 },
 "nbformat": 4,
 "nbformat_minor": 2
}
