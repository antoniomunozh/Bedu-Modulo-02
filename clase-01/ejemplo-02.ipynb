{
 "cells": [
  {
   "cell_type": "code",
   "execution_count": 1,
   "metadata": {},
   "outputs": [
    {
     "name": "stdout",
     "output_type": "stream",
     "text": [
      "Hola mundo\n"
     ]
    }
   ],
   "source": [
    "print(\"Hola mundo\")"
   ]
  },
  {
   "cell_type": "code",
   "execution_count": 6,
   "metadata": {},
   "outputs": [
    {
     "data": {
      "text/plain": [
       "float"
      ]
     },
     "execution_count": 6,
     "metadata": {},
     "output_type": "execute_result"
    }
   ],
   "source": [
    "mi_edad = 5\n",
    "saludo = \"Hola mundo\"\n",
    "costo_paleta = 5.5\n",
    "es_mayor_de_edad = True\n",
    "\n",
    "##mi_edad = \"30\"\n",
    "type(costo_paleta)"
   ]
  },
  {
   "cell_type": "code",
   "execution_count": 17,
   "metadata": {},
   "outputs": [
    {
     "name": "stdout",
     "output_type": "stream",
     "text": [
      "61\n",
      "21\n",
      "820\n",
      "2.05\n",
      "2\n",
      "1\n",
      "180167782956420929503029846064801\n",
      "1.4142135623730951\n",
      "Hola Mundo\n"
     ]
    }
   ],
   "source": [
    "mi_edad = 41\n",
    "tu_edad = 20\n",
    "numero1 = 2\n",
    "numero2 = 3\n",
    "cadena_1 = \"Hola \"\n",
    "cadena_2 = \"Mundo\"\n",
    "print(mi_edad + tu_edad)\n",
    "print(mi_edad - tu_edad)\n",
    "print(mi_edad * tu_edad)\n",
    "print(mi_edad / tu_edad)\n",
    "print(mi_edad // tu_edad)\n",
    "print(mi_edad % tu_edad)\n",
    "print(mi_edad ** tu_edad)\n",
    "print(numero1 **.5 )\n",
    "print(cadena_1 + cadena_2)\n"
   ]
  },
  {
   "cell_type": "code",
   "execution_count": 20,
   "metadata": {},
   "outputs": [
    {
     "name": "stdout",
     "output_type": "stream",
     "text": [
      "51\n",
      "Hola mundo desde python\n"
     ]
    }
   ],
   "source": [
    "mi_edad = 41\n",
    "tu_edad = mi_edad + 10\n",
    "nuevo_saludo = \"Hola mundo\"\n",
    "print(tu_edad)\n",
    "print(nuevo_saludo + \" desde python\")"
   ]
  },
  {
   "cell_type": "code",
   "execution_count": 22,
   "metadata": {},
   "outputs": [
    {
     "name": "stdout",
     "output_type": "stream",
     "text": [
      "2.0\n",
      "2.0\n"
     ]
    }
   ],
   "source": [
    "import math\n",
    "numero_4 = 4\n",
    "numero2 = 2\n",
    "raiz_cuadrada = numero_4**(1/2)\n",
    "print(raiz_cuadrada)\n",
    "raiz_cuadrada = math.sqrt(numero_4)\n",
    "print(raiz_cuadrada)"
   ]
  },
  {
   "cell_type": "code",
   "execution_count": 27,
   "metadata": {},
   "outputs": [
    {
     "name": "stdout",
     "output_type": "stream",
     "text": [
      "False\n",
      "True\n",
      "True\n",
      "False\n",
      "True\n",
      "False\n"
     ]
    }
   ],
   "source": [
    "# Operadores relacionales\n",
    "numero_1 = 5\n",
    "numero_2 = 10\n",
    "print(numero_1 == numero_2)\n",
    "print(numero_1 != numero_2)\n",
    "print(numero_1 < numero_2)\n",
    "print(numero_1 > numero_2)\n",
    "print(numero_1 <= numero_2)\n",
    "print(numero_1 >= numero_2)"
   ]
  },
  {
   "cell_type": "code",
   "execution_count": 32,
   "metadata": {},
   "outputs": [
    {
     "name": "stdout",
     "output_type": "stream",
     "text": [
      "True\n",
      "True\n",
      "False\n"
     ]
    }
   ],
   "source": [
    "# operadores logicos \n",
    "es_mayor_de_edad = True\n",
    "tiene_credencial = True\n",
    "se_activa_la_promo = es_mayor_de_edad and tiene_credencial\n",
    "print(se_activa_la_promo)\n",
    "se_activa_la_promo = es_mayor_de_edad or tiene_credencial\n",
    "print(se_activa_la_promo)\n",
    "no_puede_votar = not tiene_credencial\n",
    "print(no_puede_votar)"
   ]
  },
  {
   "cell_type": "code",
   "execution_count": 35,
   "metadata": {},
   "outputs": [
    {
     "name": "stdout",
     "output_type": "stream",
     "text": [
      "1\n",
      "3\n",
      "2\n",
      "2.0\n"
     ]
    }
   ],
   "source": [
    "#operadores de asignacio\n",
    "numero = 2\n",
    "numero = numero = 1\n",
    "print(numero)\n",
    "nuevo_numero = 2 \n",
    "nuevo_numero += 1\n",
    "print(nuevo_numero)\n",
    "nuevo_numero = 2 \n",
    "nuevo_numero *= 1\n",
    "print(nuevo_numero)\n",
    "nuevo_numero = 2 \n",
    "nuevo_numero /= 1\n",
    "print(nuevo_numero)"
   ]
  }
 ],
 "metadata": {
  "kernelspec": {
   "display_name": "Python 3",
   "language": "python",
   "name": "python3"
  },
  "language_info": {
   "codemirror_mode": {
    "name": "ipython",
    "version": 3
   },
   "file_extension": ".py",
   "mimetype": "text/x-python",
   "name": "python",
   "nbconvert_exporter": "python",
   "pygments_lexer": "ipython3",
   "version": "3.12.4"
  }
 },
 "nbformat": 4,
 "nbformat_minor": 2
}
