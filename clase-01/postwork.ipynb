{
 "cells": [
  {
   "cell_type": "code",
   "execution_count": 6,
   "metadata": {},
   "outputs": [
    {
     "name": "stdout",
     "output_type": "stream",
     "text": [
      "El total a pagar de las horas extras de tony es de 1312.5\n"
     ]
    }
   ],
   "source": [
    "#Tu tarea es desarrollar un programa en Python que permita ingresar el nombre del empleado, su salario diario y la cantidad de horas extras \n",
    "# trabajadas en una semana. El programa arrojará cuánto se le debe pagar al empleado por las horas extras.\n",
    "#El programa también debe realizar el cálculo automático del pago correspondiente por las horas extras del empleado, siguiendo estos pasos:\n",
    "#Solicitará al usuario el nombre del trabajador.\n",
    "#Pedirá al usuario que ingrese el salario diario del empleado.\n",
    "#Solicitará al usuario ingresar las horas extras trabajadas por el empleado en una semana.\n",
    "\n",
    "#Dividirá el salario diario entre 8 para determinar la tarifa por hora trabajada.\n",
    "#Si las horas extras trabajadas son 9 o menos, se pagarán al doble.\n",
    "#Si las horas extras trabajadas superan las 9, se pagarán las primeras 9 horas al doble y las horas restantes al triple.\n",
    "#Finalmente, el programa mostrará un mensaje que incluirá el nombre del empleado y el total de su pago por las horas extras.\n",
    "\n",
    "nombre_empleado = input(\"Ingresa el nombre del empleado: \")\n",
    "salario_x_dia = int(input(\"Ingresa el salario por dia del empleado: \"))\n",
    "horas_extras = int(input(\"Ingresa las horas extras por semana del empleado: \"))\n",
    "costo_hora_normal = salario_x_dia/8\n",
    "extra_menor_a_9 = (costo_hora_normal * horas_extras)*2\n",
    "\n",
    "\n",
    "if horas_extras <= 9:\n",
    "    print(f\"El total a pagar de las horas extras de {nombre_empleado} es de {extra_menor_a_9}\")\n",
    "if horas_extras > 9:\n",
    "    horas_al_doble = (9*costo_hora_normal)*2\n",
    "    horas_al_triple = ((horas_extras - 9)*costo_hora_normal)*3\n",
    "    total_a_pagar = horas_al_doble + horas_al_triple\n",
    "    print(f\"El total a pagar de las horas extras de {nombre_empleado} es de {total_a_pagar}\")\n",
    "\n",
    "\n"
   ]
  }
 ],
 "metadata": {
  "kernelspec": {
   "display_name": "Python 3",
   "language": "python",
   "name": "python3"
  },
  "language_info": {
   "codemirror_mode": {
    "name": "ipython",
    "version": 3
   },
   "file_extension": ".py",
   "mimetype": "text/x-python",
   "name": "python",
   "nbconvert_exporter": "python",
   "pygments_lexer": "ipython3",
   "version": "3.12.4"
  }
 },
 "nbformat": 4,
 "nbformat_minor": 2
}
